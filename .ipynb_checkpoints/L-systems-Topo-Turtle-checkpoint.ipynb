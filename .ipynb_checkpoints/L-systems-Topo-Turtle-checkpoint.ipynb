{
 "cells": [
  {
   "cell_type": "markdown",
   "metadata": {},
   "source": [
    "# L-systems\n"
   ]
  },
  {
   "cell_type": "code",
   "execution_count": 2,
   "metadata": {
    "ExecuteTime": {
     "end_time": "2021-10-08T08:19:27.836820Z",
     "start_time": "2021-10-08T08:19:26.923701Z"
    }
   },
   "outputs": [],
   "source": [
    "from pgljupyter import *"
   ]
  },
  {
   "cell_type": "markdown",
   "metadata": {},
   "source": [
    "## L-Py syntax\n",
    "Here comes simple examples of L-systems"
   ]
  },
  {
   "cell_type": "code",
   "execution_count": 3,
   "metadata": {
    "ExecuteTime": {
     "end_time": "2021-10-08T08:20:03.099660Z",
     "start_time": "2021-10-08T08:20:03.088457Z"
    }
   },
   "outputs": [
    {
     "data": {
      "application/vnd.jupyter.widget-view+json": {
       "model_id": "01981ae242a440798e0642e4adb122d5",
       "version_major": 2,
       "version_minor": 0
      },
      "text/plain": [
       "LsystemWidget(animate=True, derivationLength=6, is_magic=True, scene={'data': b'x\\xdaSLrw\\xf5\\xf7e`Pp\\xe0\\xe5R…"
      ]
     },
     "metadata": {},
     "output_type": "display_data"
    }
   ],
   "source": [
    "%%lpy -w 10 -a True\n",
    "from random import random \n",
    "MAX_AGE, dr = 10, 0.03 # constants\n",
    "module Apex(age), Internode(length,radius)\n",
    "Axiom: @Gc Apex(0)\n",
    "derivation length: 5\n",
    "production:\n",
    "Apex(age) :\n",
    "  if age < MAX_AGE:\n",
    "    produce Internode(1+ random(),0.03) /(137)[+(30)Apex(age+1)]Apex(age+1)\n",
    "\n",
    "Internode(l,r) --> Internode(l,r+dr)\n",
    "interpretation:\n",
    "Internode(l,r) --> _(r) F(l)\n",
    "endlsystem"
   ]
  },
  {
   "cell_type": "markdown",
   "metadata": {},
   "source": [
    "## Topology\n",
    "\n",
    "### String interpretation\n",
    "Interpret the following structure as an Lstring. AB[C[D]E[FG]H[I]J]KL[MN[O]P]QR[S]T \n",
    "\n",
    "![axialtree](./img/axialtree.png)\n"
   ]
  },
  {
   "cell_type": "code",
   "execution_count": 4,
   "metadata": {
    "ExecuteTime": {
     "end_time": "2021-10-06T15:56:04.323457Z",
     "start_time": "2021-10-06T15:56:04.314300Z"
    }
   },
   "outputs": [
    {
     "data": {
      "application/vnd.jupyter.widget-view+json": {
       "model_id": "b8a6f051a5ca4f4ebfd640c8972f92b3",
       "version_major": 2,
       "version_minor": 0
      },
      "text/plain": [
       "LsystemWidget(derivationLength=2, is_magic=True, scene={'data': b'x\\xdaSLrw\\xf5\\xf7e`Pp\\xe0\\xe5RPVVd\\x00\\x020\\…"
      ]
     },
     "metadata": {},
     "output_type": "display_data"
    }
   ],
   "source": [
    "%%lpy\n",
    "Axiom: "
   ]
  },
  {
   "cell_type": "markdown",
   "metadata": {},
   "source": [
    "### Multiscale string\n",
    "\n",
    "Try to interpret the following lstring code.\n",
    "\n",
    "`module S : scale = 1`\n",
    "\n",
    "`module B : scale = 2`\n",
    "\n",
    "`module N : scale = 3`\n",
    "\n",
    "$S_1B_1N_0N_1 [S_2B_2N_2 [N_3] B_3 N_4 [N_5N_6] N_7[N_8]N_9]N_{10}B_4N_{11} [S_3B_5N_{12}N_{13}[N_{14}]N_{15}]N_{16}N_{17} [N_{18}]N_{19}$\n",
    "\n",
    "- Draw a geometrical interpretation \n",
    "- What are the complexes at scale 2 of N3, N10 ,N15 ,N16 ?\n",
    "- What are the complexes at scale 1 of B3, B5?\n",
    "- What are the components at scale 3 of B3, B4, B5, S1?\n",
    "- What are the parents at scale 2 of B3, B5? at scale 3 of N2, N12?\n",
    "- What are the children at scale 3 of N4, N10 ?"
   ]
  },
  {
   "cell_type": "markdown",
   "metadata": {},
   "source": [
    "## Turtle Geometry\n",
    "\n",
    "A basic example of turtle syntax with F and + and - symbols."
   ]
  },
  {
   "cell_type": "code",
   "execution_count": 4,
   "metadata": {
    "ExecuteTime": {
     "end_time": "2021-10-08T08:20:38.608320Z",
     "start_time": "2021-10-08T08:20:38.593255Z"
    }
   },
   "outputs": [
    {
     "data": {
      "application/vnd.jupyter.widget-view+json": {
       "model_id": "bbca238c068b459599d168e424bd2044",
       "version_major": 2,
       "version_minor": 0
      },
      "text/plain": [
       "LsystemWidget(derivationLength=2, is_magic=True, scene={'data': b'x\\xda\\x9d\\x94\\xcfK\\x1bA\\x14\\xc7_\\xa2!1\\xb2V\\…"
      ]
     },
     "metadata": {},
     "output_type": "display_data"
    }
   ],
   "source": [
    "%%lpy -w 10\n",
    "# Set default angle to 90\n",
    "execContext().turtle.setAngleIncrement(90)\n",
    "\n",
    "Axiom: FFF-FF-F-F+F+FF-F-FFF"
   ]
  },
  {
   "cell_type": "markdown",
   "metadata": {},
   "source": [
    "#### First exercice : Draw an equilateral triangle\n",
    "\n",
    "```python\n",
    "Axiom: -(90) F(5) ... \n",
    "```\n",
    "\n",
    "![triangle](./img/triangle.png)\n",
    "\n"
   ]
  },
  {
   "cell_type": "code",
   "execution_count": 5,
   "metadata": {
    "ExecuteTime": {
     "end_time": "2021-10-08T08:22:42.217254Z",
     "start_time": "2021-10-08T08:22:42.204538Z"
    }
   },
   "outputs": [
    {
     "data": {
      "application/vnd.jupyter.widget-view+json": {
       "model_id": "b82651540c03442f84f2e3118147d5c7",
       "version_major": 2,
       "version_minor": 0
      },
      "text/plain": [
       "LsystemWidget(derivationLength=2, is_magic=True, scene={'data': b'x\\xdaSLrw\\xf5\\xf7e`Pp\\xe0\\xe5RPVVde```be\\x08…"
      ]
     },
     "metadata": {},
     "output_type": "display_data"
    }
   ],
   "source": [
    "%%lpy -w 5\n",
    "\n",
    "Axiom: -(90) F(5) +(120) F(5) +(120) F(5) "
   ]
  },
  {
   "cell_type": "markdown",
   "metadata": {},
   "source": [
    "### Creation of a polygon\n",
    "\n",
    "Complete the axiom that will generate the following polygonal shape. Use the command F, + et -. By default, non indicated angles are equal to 90° and length to 1.\n",
    "\n",
    "```python\n",
    "Axiom: ,(2) _(0.02) { . F    ....  } (True)\n",
    "```\n",
    "\n",
    "![mappleleaf](./img/mappleleaf.png)\n",
    "\n"
   ]
  },
  {
   "cell_type": "code",
   "execution_count": 6,
   "metadata": {
    "ExecuteTime": {
     "end_time": "2021-10-06T15:56:04.370605Z",
     "start_time": "2021-10-06T15:56:04.359866Z"
    }
   },
   "outputs": [
    {
     "data": {
      "application/vnd.jupyter.widget-view+json": {
       "model_id": "60171d5de383481d9c0711965f17f1df",
       "version_major": 2,
       "version_minor": 0
      },
      "text/plain": [
       "LsystemWidget(derivationLength=2, is_magic=True, scene={'data': b'x\\xda\\x8d\\x94Mh\\x13A\\x14\\xc7_\\xb2&\\xbb\\xddvK…"
      ]
     },
     "metadata": {},
     "output_type": "display_data"
    }
   ],
   "source": [
    "%%lpy -w 5\n",
    "\n",
    "Axiom:\n",
    "    nproduce : ,(2) _(0.02) { . F  +(90) F -(40) F -(40) F(0.5) \n",
    "    nproduce : -(120) F +(80) F(2) -(120) F(2) +(80) F -(120) \n",
    "    nproduce : F(0.5) -(40) F -(40) F  +(90) F }(True)"
   ]
  },
  {
   "cell_type": "markdown",
   "metadata": {},
   "source": [
    "### Leaf shape\n",
    "\n",
    "Define a section curve for the leaf. Edit it with the editor.\n",
    "Introduce @Gc et SetContour to the axiom to change the section.\n",
    "\n",
    "```python\n",
    "Axiom:  _(0.05) ,(2)  F(1,0.3) &(20) F(1,0.2) &(10) F(1,0.01)\n",
    "\n",
    "```\n",
    "\n",
    "![sweepleaf](./img/sweepleaf.png)\n",
    "\n"
   ]
  },
  {
   "cell_type": "code",
   "execution_count": 7,
   "metadata": {
    "ExecuteTime": {
     "end_time": "2021-10-08T09:11:13.747982Z",
     "start_time": "2021-10-08T09:11:13.329932Z"
    }
   },
   "outputs": [
    {
     "data": {
      "text/plain": [
       "(<curve2dmanager.Curve2DManager at 0x7f5602d98c10>,\n",
       " NurbsCurve2D(Point3Array([Vector3(-0.5,0,1),Vector3(-0.166667,0,1),Vector3(0.166667,0,1),Vector3(0.5,0,1)])))"
      ]
     },
     "execution_count": 7,
     "metadata": {},
     "output_type": "execute_result"
    }
   ],
   "source": [
    "from openalea.lpy.lsysparameters import *\n",
    "from openalea.plantgl.all import *\n",
    "l = LsystemParameters()\n",
    "l.add_curve('section')"
   ]
  },
  {
   "cell_type": "code",
   "execution_count": 8,
   "metadata": {
    "ExecuteTime": {
     "end_time": "2021-10-08T09:12:06.169804Z",
     "start_time": "2021-10-08T09:12:06.120731Z"
    }
   },
   "outputs": [
    {
     "data": {
      "application/vnd.jupyter.widget-view+json": {
       "model_id": "4684cca1eb424577a24a3fcaca56966e",
       "version_major": 2,
       "version_minor": 0
      },
      "text/plain": [
       "HBox(children=(HBox(children=(LsystemWidget(animate=True, derivationLength=2, is_magic=True, scene={'data': b'…"
      ]
     },
     "metadata": {},
     "output_type": "display_data"
    }
   ],
   "source": [
    "%%lpy -p l -w 5 -a True\n",
    "\n",
    "Axiom:  _(0.05) ,(2) SetContour(section) F(1,0.3) &(20) F(1,0.2) &(10) F(1,0.01)"
   ]
  },
  {
   "cell_type": "markdown",
   "metadata": {},
   "source": [
    "Define a second section curve, a path and a width function.\n",
    "Create a second model with Sweep(nerve_curve, section_curve,length, segsize,  width,width_func)\n",
    "\n",
    "```python\n",
    "Axiom:  Sweep(nerve_curve, section_curve,length, segsize,  width, width_func)\n",
    "\n",
    "```\n",
    "\n",
    "![sweepleaf](./img/sweepleaf2.png)\n"
   ]
  },
  {
   "cell_type": "code",
   "execution_count": 9,
   "metadata": {
    "ExecuteTime": {
     "end_time": "2021-10-08T09:14:24.140047Z",
     "start_time": "2021-10-08T09:14:24.133916Z"
    }
   },
   "outputs": [
    {
     "data": {
      "text/plain": [
       "(<curve2dmanager.Curve2DManager at 0x7f5602d98c10>,\n",
       " NurbsCurve2D(Point3Array([Vector3(-0.5,0,1),Vector3(-0.166667,0,1),Vector3(0.166667,0,1),Vector3(0.5,0,1)])))"
      ]
     },
     "execution_count": 9,
     "metadata": {},
     "output_type": "execute_result"
    }
   ],
   "source": [
    "l = LsystemParameters()\n",
    "l.add_function('width_variation', NurbsCurve2D([(0,1,1),(1/3,1,1),(2/3,1,1),(1,0,1)]))\n",
    "l.add_curve('nerve')\n",
    "l.add_curve('section')"
   ]
  },
  {
   "cell_type": "code",
   "execution_count": 10,
   "metadata": {
    "ExecuteTime": {
     "end_time": "2021-10-08T09:14:24.894399Z",
     "start_time": "2021-10-08T09:14:24.822806Z"
    }
   },
   "outputs": [
    {
     "data": {
      "application/vnd.jupyter.widget-view+json": {
       "model_id": "d723c9b575ed40ae875aec5a0ca77b93",
       "version_major": 2,
       "version_minor": 0
      },
      "text/plain": [
       "HBox(children=(HBox(children=(LsystemWidget(animate=True, derivationLength=2, is_magic=True, scene={'data': b'…"
      ]
     },
     "metadata": {},
     "output_type": "display_data"
    }
   ],
   "source": [
    "%%lpy -p l -w 20 -a True\n",
    "\n",
    "Axiom: ,(2) Sweep(nerve, section, 10, 0.1,  1, width_variation)"
   ]
  },
  {
   "cell_type": "markdown",
   "metadata": {},
   "source": [
    "## Branch shape\n",
    "\n",
    " - Insert an helio-tropism into the axiom. Test different values of the elasticity. Use command `@Tp` and `@Ts`\n",
    "\n",
    " - Remove tropism and insert a guide at the beginning of each branch. Edit graphically the guide to achieve curved architecture. Use `SetGuide`.\n"
   ]
  },
  {
   "cell_type": "code",
   "execution_count": null,
   "metadata": {
    "ExecuteTime": {
     "end_time": "2021-10-07T13:04:35.226040Z",
     "start_time": "2021-10-07T13:04:35.221552Z"
    }
   },
   "outputs": [],
   "source": [
    "l = LsystemParameters()\n",
    "l.add_curve('section')"
   ]
  },
  {
   "cell_type": "code",
   "execution_count": null,
   "metadata": {
    "ExecuteTime": {
     "end_time": "2021-10-07T13:04:36.007245Z",
     "start_time": "2021-10-07T13:04:35.965551Z"
    }
   },
   "outputs": [],
   "source": [
    "%%lpy -w 100 -a True -p l\n",
    "\n",
    "from openalea.plantgl.all import *\n",
    "from math import degrees,pi,cos\n",
    "from random import uniform, seed\n",
    "\n",
    "seed(0)\n",
    "l = 50.\n",
    "nl = 5\n",
    "phyllotaxy = 90\n",
    "max_order = 6\n",
    "diameter = lambda u : 0.05+0.5*(1-u)\n",
    "branching = lambda u : 40*cos(pi/2*u)+10\n",
    "\n",
    "module  A\n",
    "Axiom: SetGuide(shapes,l) _(diameter(0))  @Gc A(l-1,0)\n",
    "\n",
    "derivation length: int(l)\n",
    "    \n",
    "production:\n",
    "\n",
    "A(x, order) :\n",
    "    u = 1-x/l \n",
    "    if x <= 0 : produce\n",
    "    if x % nl == 0.0 and order < max_order:\n",
    "       nproduce   [ /(phyllotaxy*(x/nl))  &(branching(u)) A(x-1,  order+1) ]\n",
    "    produce  F(1, diameter(u)) A(x-1, order)\n"
   ]
  },
  {
   "cell_type": "markdown",
   "metadata": {},
   "source": [
    "## Phyllotaxie\n",
    "\n",
    "Reproduire ces organisations\n",
    "\n",
    "\n",
    "<img src=\"./img/phyllotaxie.png\" width=\"600\">"
   ]
  },
  {
   "cell_type": "code",
   "execution_count": null,
   "metadata": {
    "ExecuteTime": {
     "end_time": "2021-10-07T13:16:06.960263Z",
     "start_time": "2021-10-07T13:16:06.918599Z"
    }
   },
   "outputs": [],
   "source": [
    "%%lpy -w 10\n",
    "Axiom: \n",
    "  for i in range(5):\n",
    "    nproduce F(1) /(137.5) [ &(120) ,(2) ~l(2) ]"
   ]
  },
  {
   "cell_type": "code",
   "execution_count": null,
   "metadata": {},
   "outputs": [],
   "source": [
    "%%lpy -w 10\n",
    "Axiom: \n",
    "  for i in range(5):\n",
    "    nproduce F(1) /(180) [ &(90) ,(2) ~l(2) ]"
   ]
  },
  {
   "cell_type": "code",
   "execution_count": null,
   "metadata": {},
   "outputs": [],
   "source": [
    "%%lpy -w 10\n",
    "Axiom: \n",
    "  for i in range(7):\n",
    "    nproduce F(1) /(90) [ &(60) ,(2) ~l(2) ] \n",
    "    nproduce [ /(180) &(120) ,(2) ~l(2) ]"
   ]
  },
  {
   "cell_type": "code",
   "execution_count": null,
   "metadata": {},
   "outputs": [],
   "source": [
    "%%lpy -w 10\n",
    "Axiom: \n",
    "  for i in range(7):\n",
    "    nproduce F(1) /(90) [ &(60) ,(2) ~l(2) ] \n",
    "    nproduce [ /(60) &(120) ,(2) ~l(2) ]\n",
    "    nproduce [ /(120) &(70) ,(2) ~l(2) ]\n",
    "    nproduce [ /(180) &(50) ,(2) ~l(2) ]\n",
    "    nproduce [ /(240) &(80) ,(2) ~l(2) ]\n",
    "    nproduce [ /(300) &(100) ,(2) ~l(2) ]"
   ]
  },
  {
   "cell_type": "code",
   "execution_count": null,
   "metadata": {},
   "outputs": [],
   "source": [
    "%%lpy -w 10\n",
    "Axiom: \n",
    "  for i in range(7):\n",
    "    nproduce F(1)/(30)\n",
    "    for i in range(6):\n",
    "        nproduce /(60)[&(70),(2) ~l(2)]"
   ]
  }
 ],
 "metadata": {
  "kernelspec": {
   "display_name": "Python 3 (ipykernel)",
   "language": "python",
   "name": "python3"
  },
  "language_info": {
   "codemirror_mode": {
    "name": "ipython",
    "version": 3
   },
   "file_extension": ".py",
   "mimetype": "text/x-python",
   "name": "python",
   "nbconvert_exporter": "python",
   "pygments_lexer": "ipython3",
   "version": "3.10.12"
  }
 },
 "nbformat": 4,
 "nbformat_minor": 2
}
